{
 "cells": [
  {
   "cell_type": "code",
   "execution_count": 5,
   "metadata": {},
   "outputs": [
    {
     "name": "stdout",
     "output_type": "stream",
     "text": [
      "22\n"
     ]
    }
   ],
   "source": [
    "#########IMPORT LIBRARIES HERE IF NEEDED#######\n",
    "\n",
    "################END IMPORTS####################\n",
    "\"\"\"\n",
    "Write a function that takes a list of integers as input and returns the sum of the even numbers in the list\n",
    "minus the sum of the odd numbers in the list. The list may contain zeros and negative numbers. For example,\n",
    "f([0, -4, 2, -3, 6, -1, 8, 6]) should return 22.\n",
    "\"\"\"\n",
    "\n",
    "def f(l):\n",
    "    ##########YOUR CODE HERE##########\n",
    "    even = sum([num for num in l if num % 2==0])\n",
    "    odd = sum([num for num in l if num % 2==1])\n",
    "    r = even - odd\n",
    "    return r\n",
    "    ###########END CODE###############\n",
    "#l = [0,-4,2,-3,6,-1,8,6]\n",
    "#print(f(l))"
   ]
  },
  {
   "cell_type": "code",
   "execution_count": null,
   "metadata": {},
   "outputs": [],
   "source": []
  }
 ],
 "metadata": {
  "kernelspec": {
   "display_name": "Python 3",
   "language": "python",
   "name": "python3"
  },
  "language_info": {
   "codemirror_mode": {
    "name": "ipython",
    "version": 3
   },
   "file_extension": ".py",
   "mimetype": "text/x-python",
   "name": "python",
   "nbconvert_exporter": "python",
   "pygments_lexer": "ipython3",
   "version": "3.7.4"
  }
 },
 "nbformat": 4,
 "nbformat_minor": 2
}
