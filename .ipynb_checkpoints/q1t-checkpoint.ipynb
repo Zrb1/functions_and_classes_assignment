{
 "cells": [
  {
   "cell_type": "code",
   "execution_count": 31,
   "metadata": {},
   "outputs": [
    {
     "name": "stdout",
     "output_type": "stream",
     "text": [
      "4\n"
     ]
    }
   ],
   "source": [
    "#########IMPORT LIBRARIES HERE IF NEEDED#######\n",
    "\n",
    "################END IMPORTS####################\n",
    "\"\"\"\n",
    "Write a function that takes a list of numbers as input and returns the index location\n",
    "within the list of the largest number. If there is more than one location within the\n",
    "list that contains the largest number, then have the function return the LAST index\n",
    "location. For example, f([1,2,3,2,3,1]) should return 4.\n",
    "\"\"\"\n",
    "def f(l):\n",
    "    ##########YOUR CODE HERE##########\n",
    "    indices = [i for i, x in enumerate(l) if x == max(l)]\n",
    "    return max(indices)\n",
    "    ###########END CODE###############\n",
    "\n",
    "#l = [1,2,3,2,3,2]\n",
    "#print(f(l))"
   ]
  },
  {
   "cell_type": "code",
   "execution_count": null,
   "metadata": {},
   "outputs": [],
   "source": []
  },
  {
   "cell_type": "code",
   "execution_count": null,
   "metadata": {},
   "outputs": [],
   "source": []
  }
 ],
 "metadata": {
  "kernelspec": {
   "display_name": "Python 3",
   "language": "python",
   "name": "python3"
  },
  "language_info": {
   "codemirror_mode": {
    "name": "ipython",
    "version": 3
   },
   "file_extension": ".py",
   "mimetype": "text/x-python",
   "name": "python",
   "nbconvert_exporter": "python",
   "pygments_lexer": "ipython3",
   "version": "3.7.4"
  }
 },
 "nbformat": 4,
 "nbformat_minor": 2
}
