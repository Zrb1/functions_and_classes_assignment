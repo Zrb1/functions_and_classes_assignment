{
 "cells": [
  {
   "cell_type": "code",
   "execution_count": 18,
   "metadata": {},
   "outputs": [
    {
     "name": "stdout",
     "output_type": "stream",
     "text": [
      "<bound method TrendLine.score of <__main__.TrendLine object at 0x7f89744a6950>>\n"
     ]
    }
   ],
   "source": [
    "import numpy as np\n",
    "\n",
    "\"\"\"\n",
    "If you have used EXcel or some other spreadsheet program in the past you may be familiar with creating linear\n",
    "trendlines of data. Given a series of points that lie on the XY plane, a trendline is a line that attempts to\n",
    "model the relationship between the y values of the points and the X values of the points through the equation\n",
    "y = mX + b. Whether this is actually a good fit or not depends on the data that is being looked at, but we are\n",
    "going to create a class that takes in some data, creates a trendline based on the data that follows this equation,\n",
    "and then create a score that tells us how well the trendline fits to our data. Notice that in this class there\n",
    "is no __init__ method. There only needs to be one if there is code that needs to be run when an instance of the\n",
    "class is initialized. Fill in the three methods below according to what they are supposed to do.\n",
    "\"\"\"\n",
    "\n",
    "class TrendLine:\n",
    "    def fit(self, X, Y):\n",
    "        \"\"\"\n",
    "        This function takes 2 lists as inputs, X and Y. X is the X values of the datapoints and Y is the y values\n",
    "        of the datapoints, so for eXample (X[1], Y[1]) would create the second datapoint in our dataset. This\n",
    "        function should initialize 2 instance variables, self.m and self.b, where self.m is the slope of the\n",
    "        trendline and self.b is the y intercept. See\n",
    "        https://math.stackeXchange.com/questions/204020/what-is-the-equation-used-to-calculate-a-linear-trendline\n",
    "        .for the equations used to calculate m and b based off the data.\n",
    "        \"\"\"\n",
    "        #######YOUR CODE HERE##########\n",
    "        x = np.array(X)\n",
    "        y = np.array(Y)\n",
    "\n",
    "        self.m = (len(x) * np.sum(x*y) - np.sum(x, axis=0) * np.sum(y, axis=0)) / (len(x) * np.sum(x**2) - np.sum(x)**2)\n",
    "        self.b = (np.sum(y) - self.m * np.sum(x)) / len(x)\n",
    "        return self\n",
    "        ##########END CODE#############\n",
    "\n",
    "    def predict(self, X):\n",
    "        \"\"\"\n",
    "        This function takes the list X as input. These are the X values of a list of datapoints. The function of\n",
    "        the predict method is to predict the corresponding y values based off the values self.m and self.b calculated\n",
    "        in the fit method. Because of this, this predict method cannot be run without running the fit method on\n",
    "        some datapoints first since self.m and self.b are not initialized until the fit method is run. This function\n",
    "        should return a list where suppose X_i is the ith element of X. The ith element of the list returned should\n",
    "        then be m * X_i + b where m and b are the values calculated in the fit method.\n",
    "        \"\"\"\n",
    "        #######YOUR CODE HERE##########\n",
    "        return list(self.m * np.array(X) + self.b)\n",
    "        ##########END CODE#############\n",
    "\n",
    "    def score(self, X, Y):\n",
    "        \"\"\"\n",
    "        Like the fit method, this function takes 2 lists as inputs, X and Y. X is the X values of the datapoints and\n",
    "        Y is the y values of the datapoints. This function should create the predicted values of Y by running the\n",
    "        predict method you wrote on X, and then it should return the r^2 score between these predicted values and the\n",
    "        actual values Y. See https://en.wikipedia.org/wiki/Coefficient_of_determination for the equations used to\n",
    "        calculate the r^2 score. (It is 1 - SS_res/SS_tot)\n",
    "        \"\"\"\n",
    "        #######YOUR CODE HERE##########\n",
    "        x = np.array(X)\n",
    "        y = np.array(Y)\n",
    "        y_hat = np.array(self.predict(x))\n",
    "        f_i = y -y_hat\n",
    "        ss_res = np.sum(f_i**2)\n",
    "        ss_tot = np.sum((y - np.mean(y))**2)\n",
    "        return (1-ss_res/ss_tot)\n",
    "        ##########END CODE#############\n",
    "\n",
    "if __name__ == '__main__':\n",
    "    \"\"\"\n",
    "    Create and run test cases here if you wish. There is a jupyter notebook that was created also that once you have\n",
    "    finished writing this class, you should be able to run the cells and visualize the trendline created from this\n",
    "    code. The notebook is called TrendLine_Test.ipynb.\n",
    "    \"\"\"\n",
    "    #########CREATE TEST CASES HERE###########\n",
    "    model.X = [1,2,3,4,5]\n",
    "    model.Y = [1,2,3,4,5]\n",
    "    x_hat = [1.5,2.5]\n",
    "    \n",
    "    model = TrendLine().fit(X,Y)\n",
    "    model.predict(x_hat)\n",
    "    model.score(X,Y)\n",
    "    print(model.score)\n",
    "\n",
    "    ##########END TEST CASES##################"
   ]
  },
  {
   "cell_type": "code",
   "execution_count": null,
   "metadata": {},
   "outputs": [],
   "source": [
    "\n"
   ]
  },
  {
   "cell_type": "code",
   "execution_count": null,
   "metadata": {},
   "outputs": [],
   "source": []
  }
 ],
 "metadata": {
  "kernelspec": {
   "display_name": "Python 3",
   "language": "python",
   "name": "python3"
  },
  "language_info": {
   "codemirror_mode": {
    "name": "ipython",
    "version": 3
   },
   "file_extension": ".py",
   "mimetype": "text/x-python",
   "name": "python",
   "nbconvert_exporter": "python",
   "pygments_lexer": "ipython3",
   "version": "3.7.4"
  }
 },
 "nbformat": 4,
 "nbformat_minor": 2
}
