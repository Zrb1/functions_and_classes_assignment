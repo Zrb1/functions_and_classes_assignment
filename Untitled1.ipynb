{
 "cells": [
  {
   "cell_type": "code",
   "execution_count": 45,
   "metadata": {},
   "outputs": [],
   "source": [
    "#########IMPORT LIBRARIES HERE IF NEEDED#######\n",
    "from datetime import datetime\n",
    "################END IMPORTS####################\n",
    "\"\"\"\n",
    "Write a function that takes 2 strings s1 and s2 as inputs. These strings will represent times of the day and will be written in the format\n",
    "HH:MM:SS. Your function should return the number of seconds between these 2 times. You may assume s2 always represents a later time than s1.\n",
    "There are a number of ways to do this problem, but you will find making use of the datetime.datetime and datetime.timedelta modules will make\n",
    "things easiest. For example, f('08:59:59','10:24:31') should return 5072.\n",
    "\"\"\"\n",
    "\n",
    "def f(s1, s2):\n",
    "    ##########YOUR CODE HERE##########\n",
    "    FMT = '%H:%M:%S'\n",
    "    tdelta = datetime.strptime(s2, FMT) - datetime.strptime(s1, FMT)\n",
    "    return tdelta\n",
    "    ###########END CODE###############\n"
   ]
  },
  {
   "cell_type": "code",
   "execution_count": 46,
   "metadata": {},
   "outputs": [],
   "source": [
    "s1 = '08:59:59'\n",
    "s2 = '10:24:31'"
   ]
  },
  {
   "cell_type": "code",
   "execution_count": 47,
   "metadata": {},
   "outputs": [
    {
     "data": {
      "text/plain": [
       "datetime.timedelta(seconds=5072)"
      ]
     },
     "execution_count": 47,
     "metadata": {},
     "output_type": "execute_result"
    }
   ],
   "source": [
    "f(s1, s2)"
   ]
  },
  {
   "cell_type": "code",
   "execution_count": null,
   "metadata": {},
   "outputs": [],
   "source": []
  },
  {
   "cell_type": "code",
   "execution_count": null,
   "metadata": {},
   "outputs": [],
   "source": []
  }
 ],
 "metadata": {
  "kernelspec": {
   "display_name": "Python 3",
   "language": "python",
   "name": "python3"
  },
  "language_info": {
   "codemirror_mode": {
    "name": "ipython",
    "version": 3
   },
   "file_extension": ".py",
   "mimetype": "text/x-python",
   "name": "python",
   "nbconvert_exporter": "python",
   "pygments_lexer": "ipython3",
   "version": "3.7.4"
  }
 },
 "nbformat": 4,
 "nbformat_minor": 2
}
