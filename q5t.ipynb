{
 "cells": [
  {
   "cell_type": "code",
   "execution_count": 7,
   "metadata": {},
   "outputs": [],
   "source": [
    "#########IMPORT LIBRARIES HERE IF NEEDED#######\n",
    "import numpy as np\n",
    "################END IMPORTS####################\n",
    "\"\"\"\n",
    "Write a function that returns both the sample mean and sample standard deviation of a list of numbers. Your function will calculate\n",
    "the mean and standard deviation separately and the last line of your function should look something like\n",
    "\n",
    "return m, sd\n",
    "\n",
    "where m is the mean, and sd is the standard deviation. Make sure to return them in that order. See\n",
    "https://www.khanacademy.org/math/statistics-probability/summarizing-quantitative-data/variance-standard-deviation-sample/a/population-and-sample-standard-deviation-review\n",
    "for the equations to calculate the sample standard deviation. Make sure you use the sample standard deviation and not the population\n",
    "standard deviation. \n",
    "\"\"\"\n",
    "\n",
    "def f(l):\n",
    "    ##########YOUR CODE HERE##########\n",
    "    m = np.mean(l)\n",
    "    sd = np.std(l)\n",
    "    return m, sd\n",
    "    ###########END CODE###############\n"
   ]
  },
  {
   "cell_type": "code",
   "execution_count": 9,
   "metadata": {},
   "outputs": [],
   "source": [
    "l = [1,2,3,4,5,6,7,8,9]"
   ]
  },
  {
   "cell_type": "code",
   "execution_count": 10,
   "metadata": {},
   "outputs": [
    {
     "data": {
      "text/plain": [
       "(5.0, 2.581988897471611)"
      ]
     },
     "execution_count": 10,
     "metadata": {},
     "output_type": "execute_result"
    }
   ],
   "source": [
    "f(l)"
   ]
  },
  {
   "cell_type": "code",
   "execution_count": null,
   "metadata": {},
   "outputs": [],
   "source": []
  }
 ],
 "metadata": {
  "kernelspec": {
   "display_name": "Python 3",
   "language": "python",
   "name": "python3"
  },
  "language_info": {
   "codemirror_mode": {
    "name": "ipython",
    "version": 3
   },
   "file_extension": ".py",
   "mimetype": "text/x-python",
   "name": "python",
   "nbconvert_exporter": "python",
   "pygments_lexer": "ipython3",
   "version": "3.7.4"
  }
 },
 "nbformat": 4,
 "nbformat_minor": 2
}
