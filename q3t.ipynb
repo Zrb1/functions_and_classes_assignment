{
 "cells": [
  {
   "cell_type": "code",
   "execution_count": 10,
   "metadata": {},
   "outputs": [
    {
     "ename": "TypeError",
     "evalue": "f() missing 3 required positional arguments: 'y1', 'x2', and 'y2'",
     "output_type": "error",
     "traceback": [
      "\u001b[0;31m------------------------------------------------------------------\u001b[0m",
      "\u001b[0;31mTypeError\u001b[0m                        Traceback (most recent call last)",
      "\u001b[0;32m<ipython-input-10-77a50240d5ab>\u001b[0m in \u001b[0;36m<module>\u001b[0;34m\u001b[0m\n\u001b[1;32m     27\u001b[0m     \u001b[0;31m###########END CODE###############\u001b[0m\u001b[0;34m\u001b[0m\u001b[0;34m\u001b[0m\u001b[0;34m\u001b[0m\u001b[0m\n\u001b[1;32m     28\u001b[0m \u001b[0ml\u001b[0m \u001b[0;34m=\u001b[0m \u001b[0;34m[\u001b[0m\u001b[0;36m1\u001b[0m\u001b[0;34m,\u001b[0m\u001b[0;36m2\u001b[0m\u001b[0;34m,\u001b[0m\u001b[0;36m3\u001b[0m\u001b[0;34m,\u001b[0m\u001b[0;36m4\u001b[0m\u001b[0;34m]\u001b[0m\u001b[0;34m\u001b[0m\u001b[0;34m\u001b[0m\u001b[0m\n\u001b[0;32m---> 29\u001b[0;31m \u001b[0mprint\u001b[0m\u001b[0;34m(\u001b[0m\u001b[0mf\u001b[0m\u001b[0;34m(\u001b[0m\u001b[0ml\u001b[0m\u001b[0;34m)\u001b[0m\u001b[0;34m)\u001b[0m\u001b[0;34m\u001b[0m\u001b[0;34m\u001b[0m\u001b[0m\n\u001b[0m",
      "\u001b[0;31mTypeError\u001b[0m: f() missing 3 required positional arguments: 'y1', 'x2', and 'y2'"
     ]
    }
   ],
   "source": [
    "#########IMPORT LIBRARIES HERE IF NEEDED#######\n",
    "\n",
    "################END IMPORTS####################\n",
    "\"\"\"\n",
    "Given 2 two dimensional points (x1,y1) and (x2,y2), there exists a line that connects the 2 points that will have\n",
    "a corresponding equation y = mx + b where m is the slope of the line and b is the y intercept. Write a function that\n",
    "takes in 4 values x1, y1, x2, y2 in that order as input and returns m and b, the slope and y intercept of the connecting\n",
    "line. In other words your function will calculate the values m and b, and the last line of your function should\n",
    "look something like\n",
    "\n",
    "return m, b\n",
    "\n",
    "Note: you may run into cases where the line connecting the 2 points is a vertical line. In these cases, have your function\n",
    "return None, None.\n",
    "\"\"\"\n",
    "\n",
    "def f(x1, y1, x2, y2):\n",
    "    ##########YOUR CODE HERE##########\n",
    "    m = (y2-y1)/(x2-x2)\n",
    "    b = y-x((y2-y1)/(x2-x1))\n",
    "\n",
    "    if m == 0:\n",
    "        return 'None, none.'\n",
    "    else:\n",
    "        return m, b\n",
    "        print('y = %dx + %d' % m, b)\n",
    "    ###########END CODE###############\n",
    "l = [1,2,3,4]\n",
    "print(f(l))"
   ]
  },
  {
   "cell_type": "code",
   "execution_count": null,
   "metadata": {},
   "outputs": [],
   "source": [
    "f(x1, y1, x2, y2)"
   ]
  },
  {
   "cell_type": "code",
   "execution_count": null,
   "metadata": {},
   "outputs": [],
   "source": []
  }
 ],
 "metadata": {
  "kernelspec": {
   "display_name": "Python 3",
   "language": "python",
   "name": "python3"
  },
  "language_info": {
   "codemirror_mode": {
    "name": "ipython",
    "version": 3
   },
   "file_extension": ".py",
   "mimetype": "text/x-python",
   "name": "python",
   "nbconvert_exporter": "python",
   "pygments_lexer": "ipython3",
   "version": "3.7.4"
  }
 },
 "nbformat": 4,
 "nbformat_minor": 2
}
