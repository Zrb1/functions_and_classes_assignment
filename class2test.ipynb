{
 "cells": [
  {
   "cell_type": "code",
   "execution_count": 1,
   "metadata": {},
   "outputs": [
    {
     "ename": "SyntaxError",
     "evalue": "invalid syntax (<ipython-input-1-056f5dec385d>, line 27)",
     "output_type": "error",
     "traceback": [
      "\u001b[0;36m  File \u001b[0;32m\"<ipython-input-1-056f5dec385d>\"\u001b[0;36m, line \u001b[0;32m27\u001b[0m\n\u001b[0;31m    b = (sum(x[i]*y[i] for i in x range(N)) -1/n*sum(x)*sum(y))\u001b[0m\n\u001b[0m                                      ^\u001b[0m\n\u001b[0;31mSyntaxError\u001b[0m\u001b[0;31m:\u001b[0m invalid syntax\n"
     ]
    }
   ],
   "source": [
    "\"\"\"\n",
    "If you have used Excel or some other spreadsheet program in the past you may be familiar with creating linear\n",
    "trendlines of data. Given a series of points that lie on the XY plane, a trendline is a line that attempts to\n",
    "model the relationship between the y values of the points and the x values of the points through the equation\n",
    "y = mx + b. Whether this is actually a good fit or not depends on the data that is being looked at, but we are\n",
    "going to create a class that takes in some data, creates a trendline based on the data that follows this equation,\n",
    "and then create a score that tells us how well the trendline fits to our data. Notice that in this class there\n",
    "is no __init__ method. There only needs to be one if there is code that needs to be run when an instance of the\n",
    "class is initialized. Fill in the three methods below according to what they are supposed to do.\n",
    "\"\"\"\n",
    "\n",
    "class TrendLine:\n",
    "    def fit(self, X, Y):\n",
    "        \"\"\"\n",
    "        This function takes 2 lists as inputs, X and Y. X is the x values of the datapoints and Y is the y values\n",
    "        of the datapoints, so for example (X[1], Y[1]) would create the second datapoint in our dataset. This\n",
    "        function should initialize 2 instance variables, self.m and self.b, where self.m is the slope of the\n",
    "        trendline and self.b is the y intercept. See\n",
    "        https://math.stackexchange.com/questions/204020/what-is-the-equation-used-to-calculate-a-linear-trendline\n",
    "        for the equations used to calculate m and b based off the data.\n",
    "        \"\"\"\n",
    "        #######YOUR CODE HERE##########\n",
    "        self.m = (y-b)/x\n",
    "        self.b = (y-mx)\n",
    "\n",
    "        n = len(X)\n",
    "        b = (sum(X[i]*Y[i] for i in x range(N)) -1/n*sum(x)*sum(y))\n",
    "        m = 1*sum(y)/n-b*1*sum(x)/n\n",
    "\n",
    "        print(\"%f + %f * x\" % (m, b))\n",
    "\n",
    "        ##########END CODE#############\n",
    "\n",
    "    def predict(self, X):\n",
    "        \"\"\"\n",
    "        This function takes the list X as input. These are the x values of a list of datapoints. The function of\n",
    "        the predict method is to predict the corresponding y values based off the values self.m and self.b calculated\n",
    "        in the fit method. Because of this, this predict method cannot be run without running the fit method on\n",
    "        some datapoints first since self.m and self.b are not initialized until the fit method is run. This function\n",
    "        should return a list where suppose x_i is the ith element of X. The ith element of the list returned should\n",
    "        then be m * x_i + b where m and b are the values calculated in the fit method.\n",
    "        \"\"\"\n",
    "        #######YOUR CODE HERE##########\n",
    "        self.y = m*X+b\n",
    "        ##########END CODE#############\n",
    "\n",
    "    def score(self, X, Y):\n",
    "        \"\"\"\n",
    "        Like the fit method, this function takes 2 lists as inputs, X and Y. X is the x values of the datapoints and\n",
    "        Y is the y values of the datapoints. This function should create the predicted values of Y by running the\n",
    "        predict method you wrote on X, and then it should return the r^2 score between these predicted values and the\n",
    "        actual values Y. See https://en.wikipedia.org/wiki/Coefficient_of_determination for the equations used to\n",
    "        calculate the r^2 score. (It is 1 - SS_res/SS_tot)\n",
    "        \"\"\"\n",
    "        #######YOUR CODE HERE##########\n",
    "        pass\n",
    "        ##########END CODE#############\n",
    "\n",
    "if __name__ == '__main__':\n",
    "    \"\"\"\n",
    "    Create and run test cases here if you wish. There is a jupyter notebook that was created also that once you have\n",
    "    finished writing this class, you should be able to run the cells and visualize the trendline created from this\n",
    "    code. The notebook is called TrendLine_Test.ipynb.\n",
    "    \"\"\"\n",
    "    #########CREATE TEST CASES HERE###########\n",
    "    X = [5,6,3,4,7,8,9]\n",
    "    Y = [8,3,5,7,2,1,0]\n",
    "    ##########END TEST CASES##################\n"
   ]
  },
  {
   "cell_type": "code",
   "execution_count": null,
   "metadata": {},
   "outputs": [],
   "source": []
  }
 ],
 "metadata": {
  "kernelspec": {
   "display_name": "Python 3",
   "language": "python",
   "name": "python3"
  },
  "language_info": {
   "codemirror_mode": {
    "name": "ipython",
    "version": 3
   },
   "file_extension": ".py",
   "mimetype": "text/x-python",
   "name": "python",
   "nbconvert_exporter": "python",
   "pygments_lexer": "ipython3",
   "version": "3.7.4"
  }
 },
 "nbformat": 4,
 "nbformat_minor": 2
}
