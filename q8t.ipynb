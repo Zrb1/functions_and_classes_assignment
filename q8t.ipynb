{
 "cells": [
  {
   "cell_type": "code",
   "execution_count": 54,
   "metadata": {},
   "outputs": [],
   "source": [
    "#########IMPORT LIBRARIES HERE IF NEEDED#######\n",
    "\n",
    "################END IMPORTS####################\n",
    "\"\"\"\n",
    "Write a function that takes a path to a text file as input and returns a list of strings, where each string shows one of the lines in the\n",
    "file. The strings should be ordered by the order that they appeared in the text. Each line in the text file will contain some empty whitespace\n",
    "and the end of the line, and possibly at the beginning depending on the file you are working with. Before appending the lines to the list\n",
    "being returned, you should remove this whitespace. The build in strip() method may be helpful. For example, there is a text file called text_text.txt.\n",
    "Your function should open this file given its path and return the list ['Roses are red,', 'Violets are blue,', 'Sugar is sweet,', 'And so are you.'].\n",
    "See https://www.pythonforbeginners.com/files/reading-and-writing-files-in-python for an intro to file processing.\n",
    "\"\"\"\n",
    "\n",
    "def f(path):\n",
    "    ##########YOUR CODE HERE##########\n",
    "    with open(path) as f:\n",
    "        l = list(f)\n",
    "    return l\n",
    "    ###########END CODE###############\n"
   ]
  },
  {
   "cell_type": "code",
   "execution_count": 56,
   "metadata": {},
   "outputs": [
    {
     "ename": "NameError",
     "evalue": "name 'text_text' is not defined",
     "output_type": "error",
     "traceback": [
      "\u001b[0;31m------------------------------------------------------------------\u001b[0m",
      "\u001b[0;31mNameError\u001b[0m                        Traceback (most recent call last)",
      "\u001b[0;32m<ipython-input-56-0283bc43a10b>\u001b[0m in \u001b[0;36m<module>\u001b[0;34m\u001b[0m\n\u001b[0;32m----> 1\u001b[0;31m \u001b[0mpath\u001b[0m \u001b[0;34m=\u001b[0m \u001b[0mtext_text\u001b[0m\u001b[0;34m.\u001b[0m\u001b[0mtxt\u001b[0m\u001b[0;34m\u001b[0m\u001b[0;34m\u001b[0m\u001b[0m\n\u001b[0m",
      "\u001b[0;31mNameError\u001b[0m: name 'text_text' is not defined"
     ]
    }
   ],
   "source": [
    "path = text_text.txt"
   ]
  },
  {
   "cell_type": "code",
   "execution_count": 50,
   "metadata": {},
   "outputs": [
    {
     "data": {
      "text/plain": [
       "'hELLO wORLD 12'"
      ]
     },
     "execution_count": 50,
     "metadata": {},
     "output_type": "execute_result"
    }
   ],
   "source": []
  },
  {
   "cell_type": "code",
   "execution_count": null,
   "metadata": {},
   "outputs": [],
   "source": []
  },
  {
   "cell_type": "code",
   "execution_count": null,
   "metadata": {},
   "outputs": [],
   "source": []
  }
 ],
 "metadata": {
  "kernelspec": {
   "display_name": "Python 3",
   "language": "python",
   "name": "python3"
  },
  "language_info": {
   "codemirror_mode": {
    "name": "ipython",
    "version": 3
   },
   "file_extension": ".py",
   "mimetype": "text/x-python",
   "name": "python",
   "nbconvert_exporter": "python",
   "pygments_lexer": "ipython3",
   "version": "3.7.4"
  }
 },
 "nbformat": 4,
 "nbformat_minor": 2
}
